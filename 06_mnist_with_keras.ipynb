{
 "cells": [
  {
   "cell_type": "code",
   "execution_count": 1,
   "metadata": {},
   "outputs": [],
   "source": [
    "import warnings\n",
    "warnings.simplefilter(action='ignore', category=FutureWarning)"
   ]
  },
  {
   "cell_type": "code",
   "execution_count": 2,
   "metadata": {},
   "outputs": [],
   "source": [
    "import tensorflow as tf"
   ]
  },
  {
   "cell_type": "markdown",
   "metadata": {},
   "source": [
    "#### 1. 获取数据并格式化"
   ]
  },
  {
   "cell_type": "code",
   "execution_count": 3,
   "metadata": {},
   "outputs": [],
   "source": [
    "(x_train, y_train), (x_test, y_test) = tf.keras.datasets.mnist.load_data()\n",
    "x_train, x_test = x_train / 255.0, x_test / 255.0"
   ]
  },
  {
   "cell_type": "markdown",
   "metadata": {},
   "source": [
    "#### 2. 定义模型"
   ]
  },
  {
   "cell_type": "code",
   "execution_count": 4,
   "metadata": {},
   "outputs": [],
   "source": [
    "model = tf.keras.models.Sequential([\n",
    "    tf.keras.layers.Flatten(),\n",
    "    tf.keras.layers.Dense(512, activation=tf.nn.relu),\n",
    "    tf.keras.layers.Dropout(0.2),\n",
    "    tf.keras.layers.Dense(10, activation=tf.nn.softmax)\n",
    "])"
   ]
  },
  {
   "cell_type": "markdown",
   "metadata": {},
   "source": [
    "#### 3. 构建模型"
   ]
  },
  {
   "cell_type": "code",
   "execution_count": 5,
   "metadata": {},
   "outputs": [],
   "source": [
    "model.compile(optimizer='adam',\n",
    "             loss='sparse_categorical_crossentropy',\n",
    "             metrics=['accuracy'])"
   ]
  },
  {
   "cell_type": "markdown",
   "metadata": {},
   "source": [
    "#### 4. 拟合模型并评估效果"
   ]
  },
  {
   "cell_type": "code",
   "execution_count": 6,
   "metadata": {},
   "outputs": [
    {
     "name": "stdout",
     "output_type": "stream",
     "text": [
      "Epoch 1/10\n",
      "60000/60000 [==============================] - 17s 288us/step - loss: 0.2181 - acc: 0.9355\n",
      "Epoch 2/10\n",
      "60000/60000 [==============================] - 17s 283us/step - loss: 0.0947 - acc: 0.9713\n",
      "Epoch 3/10\n",
      "60000/60000 [==============================] - 17s 282us/step - loss: 0.0688 - acc: 0.9779\n",
      "Epoch 4/10\n",
      "60000/60000 [==============================] - 17s 283us/step - loss: 0.0542 - acc: 0.9826\n",
      "Epoch 5/10\n",
      "60000/60000 [==============================] - 17s 287us/step - loss: 0.0416 - acc: 0.9863\n",
      "Epoch 6/10\n",
      "60000/60000 [==============================] - 18s 296us/step - loss: 0.0370 - acc: 0.9879\n",
      "Epoch 7/10\n",
      "60000/60000 [==============================] - 17s 284us/step - loss: 0.0308 - acc: 0.9903\n",
      "Epoch 8/10\n",
      "60000/60000 [==============================] - 18s 296us/step - loss: 0.0295 - acc: 0.9901\n",
      "Epoch 9/10\n",
      "60000/60000 [==============================] - 17s 284us/step - loss: 0.0245 - acc: 0.9917\n",
      "Epoch 10/10\n",
      "60000/60000 [==============================] - 17s 285us/step - loss: 0.0222 - acc: 0.9924\n",
      "10000/10000 [==============================] - 0s 33us/step\n"
     ]
    },
    {
     "data": {
      "text/plain": [
       "[0.07059012335524675, 0.9823]"
      ]
     },
     "execution_count": 6,
     "metadata": {},
     "output_type": "execute_result"
    }
   ],
   "source": [
    "model.fit(x_train, y_train, epochs=10)\n",
    "model.evaluate(x_test, y_test)"
   ]
  }
 ],
 "metadata": {
  "kernelspec": {
   "display_name": "Python 3",
   "language": "python",
   "name": "python3"
  },
  "language_info": {
   "codemirror_mode": {
    "name": "ipython",
    "version": 3
   },
   "file_extension": ".py",
   "mimetype": "text/x-python",
   "name": "python",
   "nbconvert_exporter": "python",
   "pygments_lexer": "ipython3",
   "version": "3.6.5"
  }
 },
 "nbformat": 4,
 "nbformat_minor": 2
}
