{
 "cells": [
  {
   "cell_type": "code",
   "execution_count": 1,
   "metadata": {},
   "outputs": [],
   "source": [
    "import warnings\n",
    "warnings.simplefilter(action='ignore', category=FutureWarning)"
   ]
  },
  {
   "cell_type": "code",
   "execution_count": 2,
   "metadata": {},
   "outputs": [],
   "source": [
    "import tensorflow as tf\n",
    "import numpy as np"
   ]
  },
  {
   "cell_type": "markdown",
   "metadata": {},
   "source": [
    "#### 0. 定义函数， 将监督数据转换为one_hot格式\n",
    "比如: \n",
    "[1, 2, ...] => [[0, 1, 0, 0, 0, 0, 0, 0, 0, 0], [0, 0, 1, 0, 0, 0, 0, 0, 0, 0], ...]"
   ]
  },
  {
   "cell_type": "code",
   "execution_count": 3,
   "metadata": {},
   "outputs": [],
   "source": [
    "def _change_one_hot_label(X):\n",
    "    T = np.zeros((X.size, 10))\n",
    "    for idx, row in enumerate(T):\n",
    "        row[X[idx]] = 1\n",
    "    return T"
   ]
  },
  {
   "cell_type": "markdown",
   "metadata": {},
   "source": [
    "#### 1. 获取数据并格式化"
   ]
  },
  {
   "cell_type": "code",
   "execution_count": 4,
   "metadata": {},
   "outputs": [],
   "source": [
    "(x_train, y_train), (x_test, y_test) = tf.keras.datasets.mnist.load_data()\n",
    "x_train, x_test = x_train / 255.0, x_test / 255.0\n",
    "x_train, x_test = x_train.reshape(-1, 784), x_test.reshape(-1, 784)\n",
    "y_train, y_test = _change_one_hot_label(y_train), _change_one_hot_label(y_test)"
   ]
  },
  {
   "cell_type": "markdown",
   "metadata": {},
   "source": [
    "#### 2. 设定训练数据大小与mini-batch的大小"
   ]
  },
  {
   "cell_type": "code",
   "execution_count": 5,
   "metadata": {},
   "outputs": [],
   "source": [
    "train_size = x_train.shape[0]\n",
    "batch_size = 100"
   ]
  },
  {
   "cell_type": "markdown",
   "metadata": {},
   "source": [
    "#### 3. 声明计算图各节点"
   ]
  },
  {
   "cell_type": "code",
   "execution_count": 6,
   "metadata": {},
   "outputs": [],
   "source": [
    "x = tf.placeholder('float', [None, 784])  # 输入数据\n",
    "y_ = tf.placeholder('float', [None, 10])  # 监督数据\n",
    "W = tf.Variable(tf.random_normal([784, 10]))  # 权重\n",
    "b = tf.Variable(tf.zeros([10]))  # 偏置\n",
    "y = tf.nn.softmax(tf.matmul(x, W) + b)\n",
    "cross_entropy_error = -tf.reduce_sum(y_ * tf.log(y))  # 交叉熵误差\n",
    "train_step = tf.train.GradientDescentOptimizer(0.5).minimize(cross_entropy_error)\n",
    "correct_prediction = tf.equal(tf.argmax(y, 1), tf.argmax(y_, 1))\n",
    "accuracy = tf.reduce_mean(tf.cast(correct_prediction, 'float'))"
   ]
  },
  {
   "cell_type": "markdown",
   "metadata": {},
   "source": [
    "#### 4. 构建图并进行运算"
   ]
  },
  {
   "cell_type": "code",
   "execution_count": 7,
   "metadata": {},
   "outputs": [
    {
     "name": "stdout",
     "output_type": "stream",
     "text": [
      "0 0.2807\n",
      "1 0.098\n",
      "2 0.098\n",
      "3 0.098\n",
      "4 0.098\n",
      "5 0.098\n",
      "6 0.098\n",
      "7 0.098\n",
      "8 0.098\n",
      "9 0.098\n",
      "10 0.098\n",
      "11 0.098\n",
      "12 0.098\n",
      "13 0.098\n",
      "14 0.098\n",
      "15 0.098\n",
      "16 0.098\n",
      "17 0.098\n",
      "18 0.098\n",
      "19 0.098\n",
      "20 0.098\n",
      "21 0.098\n",
      "22 0.098\n",
      "23 0.098\n",
      "24 0.098\n",
      "25 0.098\n",
      "26 0.098\n",
      "27 0.098\n",
      "28 0.098\n",
      "29 0.098\n",
      "30 0.098\n",
      "31 0.098\n",
      "32 0.098\n",
      "33 0.098\n",
      "34 0.098\n",
      "35 0.098\n",
      "36 0.098\n",
      "37 0.098\n",
      "38 0.098\n",
      "39 0.098\n",
      "40 0.098\n",
      "41 0.098\n",
      "42 0.098\n",
      "43 0.098\n",
      "44 0.098\n",
      "45 0.098\n",
      "46 0.098\n",
      "47 0.098\n",
      "48 0.098\n",
      "49 0.098\n",
      "50 0.098\n",
      "51 0.098\n",
      "52 0.098\n",
      "53 0.098\n",
      "54 0.098\n",
      "55 0.098\n",
      "56 0.098\n",
      "57 0.098\n",
      "58 0.098\n",
      "59 0.098\n",
      "60 0.098\n",
      "61 0.098\n",
      "62 0.098\n",
      "63 0.098\n",
      "64 0.098\n",
      "65 0.098\n",
      "66 0.098\n",
      "67 0.098\n",
      "68 0.098\n",
      "69 0.098\n",
      "70 0.098\n",
      "71 0.098\n",
      "72 0.098\n",
      "73 0.098\n",
      "74 0.098\n",
      "75 0.098\n",
      "76 0.098\n",
      "77 0.098\n",
      "78 0.098\n",
      "79 0.098\n",
      "80 0.098\n",
      "81 0.098\n",
      "82 0.098\n",
      "83 0.098\n",
      "84 0.098\n",
      "85 0.098\n",
      "86 0.098\n",
      "87 0.098\n",
      "88 0.098\n",
      "89 0.098\n",
      "90 0.098\n",
      "91 0.098\n",
      "92 0.098\n",
      "93 0.098\n",
      "94 0.098\n",
      "95 0.098\n",
      "96 0.098\n",
      "97 0.098\n",
      "98 0.098\n",
      "99 0.098\n"
     ]
    }
   ],
   "source": [
    "with tf.Session() as sess:\n",
    "    sess.run(tf.global_variables_initializer())\n",
    "    for i in range(100):\n",
    "        batch_mask = np.random.choice(train_size, batch_size)\n",
    "        x_batch = x_train[batch_mask]\n",
    "        y_batch = y_train[batch_mask]\n",
    "        \n",
    "        sess.run(train_step, feed_dict={x: x_batch, y_: y_batch})\n",
    "        test_acc = sess.run(accuracy, feed_dict={x: x_test, y_: y_test})\n",
    "        print(i, test_acc)"
   ]
  }
 ],
 "metadata": {
  "kernelspec": {
   "display_name": "Python 3",
   "language": "python",
   "name": "python3"
  },
  "language_info": {
   "codemirror_mode": {
    "name": "ipython",
    "version": 3
   },
   "file_extension": ".py",
   "mimetype": "text/x-python",
   "name": "python",
   "nbconvert_exporter": "python",
   "pygments_lexer": "ipython3",
   "version": "3.6.5"
  }
 },
 "nbformat": 4,
 "nbformat_minor": 2
}
